{
  "nbformat": 4,
  "nbformat_minor": 0,
  "metadata": {
    "colab": {
      "name": "Untitled7.ipynb",
      "provenance": [],
      "collapsed_sections": [],
      "authorship_tag": "ABX9TyMPW3/dd6SZlBnVfHETGn/g",
      "include_colab_link": true
    },
    "kernelspec": {
      "name": "python3",
      "display_name": "Python 3"
    },
    "language_info": {
      "name": "python"
    }
  },
  "cells": [
    {
      "cell_type": "markdown",
      "metadata": {
        "id": "view-in-github",
        "colab_type": "text"
      },
      "source": [
        "<a href=\"https://colab.research.google.com/github/Akrambaig282/Akrambaig282/blob/main/salary.ipynb\" target=\"_parent\"><img src=\"https://colab.research.google.com/assets/colab-badge.svg\" alt=\"Open In Colab\"/></a>"
      ]
    },
    {
      "cell_type": "markdown",
      "source": [
        "# SALARY PREDECTION BY USING SLR"
      ],
      "metadata": {
        "id": "Lfrbl_1PH9HV"
      }
    },
    {
      "cell_type": "code",
      "execution_count": 1,
      "metadata": {
        "id": "Uti-rgR2HTcK"
      },
      "outputs": [],
      "source": [
        "%load_ext rpy2.ipython"
      ]
    },
    {
      "cell_type": "code",
      "source": [
        "%%R\n",
        "library(readr)\n",
        "library(dplyr)\n",
        "library(tidyr)\n",
        "library(ggplot2)\n"
      ],
      "metadata": {
        "colab": {
          "base_uri": "https://localhost:8080/"
        },
        "id": "qYW2k1knHcbJ",
        "outputId": "f667cd46-55d3-46fe-e490-a19e48c8858d"
      },
      "execution_count": 2,
      "outputs": [
        {
          "output_type": "stream",
          "name": "stderr",
          "text": [
            "R[write to console]: \n",
            "Attaching package: ‘dplyr’\n",
            "\n",
            "\n",
            "R[write to console]: The following objects are masked from ‘package:stats’:\n",
            "\n",
            "    filter, lag\n",
            "\n",
            "\n",
            "R[write to console]: The following objects are masked from ‘package:base’:\n",
            "\n",
            "    intersect, setdiff, setequal, union\n",
            "\n",
            "\n",
            "R[write to console]: Learn more about the underlying theory at https://ggplot2-book.org/\n",
            "\n"
          ]
        }
      ]
    },
    {
      "cell_type": "code",
      "source": [
        "%%R\n",
        "salary=read_csv(\"/content/Salary_Data.csv\")"
      ],
      "metadata": {
        "colab": {
          "base_uri": "https://localhost:8080/"
        },
        "id": "t5XX8piFH6it",
        "outputId": "5b353193-3557-45da-dd54-e3878f1c56f9"
      },
      "execution_count": 3,
      "outputs": [
        {
          "output_type": "stream",
          "name": "stdout",
          "text": [
            "Rows: 30 Columns: 2\n",
            "── Column specification ────────────────────────────────────────────────────────\n",
            "Delimiter: \",\"\n",
            "dbl (2): YearsExperience, Salary\n",
            "\n",
            "ℹ Use `spec()` to retrieve the full column specification for this data.\n",
            "ℹ Specify the column types or set `show_col_types = FALSE` to quiet this message.\n"
          ]
        }
      ]
    },
    {
      "cell_type": "code",
      "source": [
        "%%R\n",
        "salary"
      ],
      "metadata": {
        "colab": {
          "base_uri": "https://localhost:8080/"
        },
        "id": "-qk_ZYY-Ivuw",
        "outputId": "629dc465-e495-4dac-af90-f5a539e02c73"
      },
      "execution_count": 4,
      "outputs": [
        {
          "output_type": "stream",
          "name": "stdout",
          "text": [
            "# A tibble: 30 × 2\n",
            "   YearsExperience Salary\n",
            "             <dbl>  <dbl>\n",
            " 1             1.1  39343\n",
            " 2             1.3  46205\n",
            " 3             1.5  37731\n",
            " 4             2    43525\n",
            " 5             2.2  39891\n",
            " 6             2.9  56642\n",
            " 7             3    60150\n",
            " 8             3.2  54445\n",
            " 9             3.2  64445\n",
            "10             3.7  57189\n",
            "# … with 20 more rows\n"
          ]
        }
      ]
    },
    {
      "cell_type": "code",
      "source": [
        "%%R\n",
        "print(salary$YearsExperience)\n",
        "print(salary$Salary)"
      ],
      "metadata": {
        "colab": {
          "base_uri": "https://localhost:8080/"
        },
        "id": "_gDkb8xJI_pX",
        "outputId": "89dc68e9-d970-489f-d6a0-14624ee56e79"
      },
      "execution_count": 5,
      "outputs": [
        {
          "output_type": "stream",
          "name": "stdout",
          "text": [
            " [1]  1.1  1.3  1.5  2.0  2.2  2.9  3.0  3.2  3.2  3.7  3.9  4.0  4.0  4.1  4.5\n",
            "[16]  4.9  5.1  5.3  5.9  6.0  6.8  7.1  7.9  8.2  8.7  9.0  9.5  9.6 10.3 10.5\n",
            " [1]  39343  46205  37731  43525  39891  56642  60150  54445  64445  57189\n",
            "[11]  63218  55794  56957  57081  61111  67938  66029  83088  81363  93940\n",
            "[21]  91738  98273 101302 113812 109431 105582 116969 112635 122391 121872\n"
          ]
        }
      ]
    },
    {
      "cell_type": "code",
      "source": [
        "%%R\n",
        "cor(salary$Salary,salary$YearsExperience)"
      ],
      "metadata": {
        "colab": {
          "base_uri": "https://localhost:8080/"
        },
        "id": "2se4aomSJQ8p",
        "outputId": "9b6fba1f-0947-42db-a8d1-526f55b1a376"
      },
      "execution_count": 6,
      "outputs": [
        {
          "output_type": "stream",
          "name": "stdout",
          "text": [
            "[1] 0.9782416\n"
          ]
        }
      ]
    },
    {
      "cell_type": "code",
      "source": [
        "%%R\n",
        "relation <- lm(salary$Salary~salary$YearsExperience)\n",
        "print(relation)"
      ],
      "metadata": {
        "colab": {
          "base_uri": "https://localhost:8080/"
        },
        "id": "3GaKDollJtvj",
        "outputId": "10a0a9e8-e673-4317-b60f-e7cab7e63139"
      },
      "execution_count": 8,
      "outputs": [
        {
          "output_type": "stream",
          "name": "stdout",
          "text": [
            "\n",
            "Call:\n",
            "lm(formula = salary$Salary ~ salary$YearsExperience)\n",
            "\n",
            "Coefficients:\n",
            "           (Intercept)  salary$YearsExperience  \n",
            "                 25792                    9450  \n",
            "\n"
          ]
        }
      ]
    },
    {
      "cell_type": "code",
      "source": [
        "%%R\n",
        "summary(relation)"
      ],
      "metadata": {
        "colab": {
          "base_uri": "https://localhost:8080/"
        },
        "id": "ppKvktA3Ll00",
        "outputId": "d20d6e18-eb16-4c91-8301-75a34597877d"
      },
      "execution_count": 9,
      "outputs": [
        {
          "output_type": "stream",
          "name": "stdout",
          "text": [
            "\n",
            "Call:\n",
            "lm(formula = salary$Salary ~ salary$YearsExperience)\n",
            "\n",
            "Residuals:\n",
            "    Min      1Q  Median      3Q     Max \n",
            "-7958.0 -4088.5  -459.9  3372.6 11448.0 \n",
            "\n",
            "Coefficients:\n",
            "                       Estimate Std. Error t value Pr(>|t|)    \n",
            "(Intercept)             25792.2     2273.1   11.35 5.51e-12 ***\n",
            "salary$YearsExperience   9450.0      378.8   24.95  < 2e-16 ***\n",
            "---\n",
            "Signif. codes:  0 ‘***’ 0.001 ‘**’ 0.01 ‘*’ 0.05 ‘.’ 0.1 ‘ ’ 1\n",
            "\n",
            "Residual standard error: 5788 on 28 degrees of freedom\n",
            "Multiple R-squared:  0.957,\tAdjusted R-squared:  0.9554 \n",
            "F-statistic: 622.5 on 1 and 28 DF,  p-value: < 2.2e-16\n",
            "\n"
          ]
        }
      ]
    },
    {
      "cell_type": "code",
      "source": [
        "%%R\n",
        "print(coefficients(relation))"
      ],
      "metadata": {
        "colab": {
          "base_uri": "https://localhost:8080/"
        },
        "id": "iLztqRb-MKXx",
        "outputId": "b7b769fd-66cd-416a-b71f-64161753fe94"
      },
      "execution_count": 10,
      "outputs": [
        {
          "output_type": "stream",
          "name": "stdout",
          "text": [
            "           (Intercept) salary$YearsExperience \n",
            "             25792.200               9449.962 \n"
          ]
        }
      ]
    },
    {
      "cell_type": "code",
      "source": [
        "%%R\n",
        "names(relation)\n",
        "#model(relation)"
      ],
      "metadata": {
        "colab": {
          "base_uri": "https://localhost:8080/"
        },
        "id": "xiCpHNg4Mjnf",
        "outputId": "f01895e2-22a1-4a3c-f0bd-098886ee4554"
      },
      "execution_count": 11,
      "outputs": [
        {
          "output_type": "stream",
          "name": "stdout",
          "text": [
            " [1] \"coefficients\"  \"residuals\"     \"effects\"       \"rank\"         \n",
            " [5] \"fitted.values\" \"assign\"        \"qr\"            \"df.residual\"  \n",
            " [9] \"xlevels\"       \"call\"          \"terms\"         \"model\"        \n"
          ]
        }
      ]
    },
    {
      "cell_type": "code",
      "source": [
        "%%R\n",
        "str(relation)\n",
        "#relation$coefficients[1]"
      ],
      "metadata": {
        "colab": {
          "base_uri": "https://localhost:8080/"
        },
        "id": "zq8ZaFaFMyVW",
        "outputId": "ee4b91f1-a521-45d0-8ac6-21824aa76bf3"
      },
      "execution_count": 12,
      "outputs": [
        {
          "output_type": "stream",
          "name": "stdout",
          "text": [
            "List of 12\n",
            " $ coefficients : Named num [1:2] 25792 9450\n",
            "  ..- attr(*, \"names\")= chr [1:2] \"(Intercept)\" \"salary$YearsExperience\"\n",
            " $ residuals    : Named num [1:30] 3156 8128 -2236 -1167 -6691 ...\n",
            "  ..- attr(*, \"names\")= chr [1:30] \"1\" \"2\" \"3\" \"4\" ...\n",
            " $ effects      : Named num [1:30] -416286 144419 -4019 -2746 -8188 ...\n",
            "  ..- attr(*, \"names\")= chr [1:30] \"(Intercept)\" \"salary$YearsExperience\" \"\" \"\" ...\n",
            " $ rank         : int 2\n",
            " $ fitted.values: Named num [1:30] 36187 38077 39967 44692 46582 ...\n",
            "  ..- attr(*, \"names\")= chr [1:30] \"1\" \"2\" \"3\" \"4\" ...\n",
            " $ assign       : int [1:2] 0 1\n",
            " $ qr           :List of 5\n",
            "  ..$ qr   : num [1:30, 1:2] -5.477 0.183 0.183 0.183 0.183 ...\n",
            "  .. ..- attr(*, \"dimnames\")=List of 2\n",
            "  .. .. ..$ : chr [1:30] \"1\" \"2\" \"3\" \"4\" ...\n",
            "  .. .. ..$ : chr [1:2] \"(Intercept)\" \"salary$YearsExperience\"\n",
            "  .. ..- attr(*, \"assign\")= int [1:2] 0 1\n",
            "  ..$ qraux: num [1:2] 1.18 1.22\n",
            "  ..$ pivot: int [1:2] 1 2\n",
            "  ..$ tol  : num 1e-07\n",
            "  ..$ rank : int 2\n",
            "  ..- attr(*, \"class\")= chr \"qr\"\n",
            " $ df.residual  : int 28\n",
            " $ xlevels      : Named list()\n",
            " $ call         : language lm(formula = salary$Salary ~ salary$YearsExperience)\n",
            " $ terms        :Classes 'terms', 'formula'  language salary$Salary ~ salary$YearsExperience\n",
            "  .. ..- attr(*, \"variables\")= language list(salary$Salary, salary$YearsExperience)\n",
            "  .. ..- attr(*, \"factors\")= int [1:2, 1] 0 1\n",
            "  .. .. ..- attr(*, \"dimnames\")=List of 2\n",
            "  .. .. .. ..$ : chr [1:2] \"salary$Salary\" \"salary$YearsExperience\"\n",
            "  .. .. .. ..$ : chr \"salary$YearsExperience\"\n",
            "  .. ..- attr(*, \"term.labels\")= chr \"salary$YearsExperience\"\n",
            "  .. ..- attr(*, \"order\")= int 1\n",
            "  .. ..- attr(*, \"intercept\")= int 1\n",
            "  .. ..- attr(*, \"response\")= int 1\n",
            "  .. ..- attr(*, \".Environment\")=<environment: R_GlobalEnv> \n",
            "  .. ..- attr(*, \"predvars\")= language list(salary$Salary, salary$YearsExperience)\n",
            "  .. ..- attr(*, \"dataClasses\")= Named chr [1:2] \"numeric\" \"numeric\"\n",
            "  .. .. ..- attr(*, \"names\")= chr [1:2] \"salary$Salary\" \"salary$YearsExperience\"\n",
            " $ model        :'data.frame':\t30 obs. of  2 variables:\n",
            "  ..$ salary$Salary         : num [1:30] 39343 46205 37731 43525 39891 ...\n",
            "  ..$ salary$YearsExperience: num [1:30] 1.1 1.3 1.5 2 2.2 2.9 3 3.2 3.2 3.7 ...\n",
            "  ..- attr(*, \"terms\")=Classes 'terms', 'formula'  language salary$Salary ~ salary$YearsExperience\n",
            "  .. .. ..- attr(*, \"variables\")= language list(salary$Salary, salary$YearsExperience)\n",
            "  .. .. ..- attr(*, \"factors\")= int [1:2, 1] 0 1\n",
            "  .. .. .. ..- attr(*, \"dimnames\")=List of 2\n",
            "  .. .. .. .. ..$ : chr [1:2] \"salary$Salary\" \"salary$YearsExperience\"\n",
            "  .. .. .. .. ..$ : chr \"salary$YearsExperience\"\n",
            "  .. .. ..- attr(*, \"term.labels\")= chr \"salary$YearsExperience\"\n",
            "  .. .. ..- attr(*, \"order\")= int 1\n",
            "  .. .. ..- attr(*, \"intercept\")= int 1\n",
            "  .. .. ..- attr(*, \"response\")= int 1\n",
            "  .. .. ..- attr(*, \".Environment\")=<environment: R_GlobalEnv> \n",
            "  .. .. ..- attr(*, \"predvars\")= language list(salary$Salary, salary$YearsExperience)\n",
            "  .. .. ..- attr(*, \"dataClasses\")= Named chr [1:2] \"numeric\" \"numeric\"\n",
            "  .. .. .. ..- attr(*, \"names\")= chr [1:2] \"salary$Salary\" \"salary$YearsExperience\"\n",
            " - attr(*, \"class\")= chr \"lm\"\n"
          ]
        }
      ]
    },
    {
      "cell_type": "code",
      "source": [
        "%%R\n",
        "#str(relation)\n",
        "relation$coefficients[2]"
      ],
      "metadata": {
        "colab": {
          "base_uri": "https://localhost:8080/"
        },
        "id": "l2GYL86JNb59",
        "outputId": "9022623c-23e3-4330-a08c-7d5122d6881a"
      },
      "execution_count": 15,
      "outputs": [
        {
          "output_type": "stream",
          "name": "stdout",
          "text": [
            "salary$YearsExperience \n",
            "              9449.962 \n"
          ]
        }
      ]
    },
    {
      "cell_type": "code",
      "source": [
        "%%R\n",
        "c=relation$coefficients[1]\n",
        "m=relation$coefficients[2]\n",
        "print(c)\n",
        "print(m)"
      ],
      "metadata": {
        "colab": {
          "base_uri": "https://localhost:8080/"
        },
        "id": "Ok6w_sjKNyAe",
        "outputId": "2435dc4d-b9f6-44c0-af35-1860058a2985"
      },
      "execution_count": 17,
      "outputs": [
        {
          "output_type": "stream",
          "name": "stdout",
          "text": [
            "(Intercept) \n",
            "    25792.2 \n",
            "salary$YearsExperience \n",
            "              9449.962 \n"
          ]
        }
      ]
    },
    {
      "cell_type": "code",
      "source": [
        "%%R\n",
        "Salary_output=m*7+c\n",
        "print(Salary_output)"
      ],
      "metadata": {
        "colab": {
          "base_uri": "https://localhost:8080/"
        },
        "id": "64TG3SFOOzY1",
        "outputId": "6b05e7b1-7011-449b-8c48-e6ab99bc6b03"
      },
      "execution_count": 21,
      "outputs": [
        {
          "output_type": "stream",
          "name": "stdout",
          "text": [
            "salary$YearsExperience \n",
            "              91941.94 \n"
          ]
        }
      ]
    },
    {
      "cell_type": "code",
      "source": [
        "%%R\n",
        "y=m*salary$YearsExperience+c\n",
        "print(y)\n",
        "salary1 <- mutate(salary, predicted =y)\n",
        "salary2 <- mutate(salary1,difference=Salary-predicted)\n",
        "#print(salary1)"
      ],
      "metadata": {
        "colab": {
          "base_uri": "https://localhost:8080/"
        },
        "id": "qV-otNVDPS-z",
        "outputId": "3c694693-c17d-4284-c10f-35f63cbe12b6"
      },
      "execution_count": 24,
      "outputs": [
        {
          "output_type": "stream",
          "name": "stdout",
          "text": [
            " [1]  36187.16  38077.15  39967.14  44692.12  46582.12  53197.09  54142.09\n",
            " [8]  56032.08  56032.08  60757.06  62647.05  63592.05  63592.05  64537.05\n",
            "[15]  68317.03  72097.02  73987.01  75877.00  81546.98  82491.97  90051.94\n",
            "[22]  92886.93 100446.90 103281.89 108006.87 110841.86 115566.84 116511.84\n",
            "[29] 123126.81 125016.80\n"
          ]
        }
      ]
    },
    {
      "cell_type": "code",
      "source": [
        "%%R\n",
        "print(salary2)"
      ],
      "metadata": {
        "colab": {
          "base_uri": "https://localhost:8080/"
        },
        "id": "2Clyd1mcWNE-",
        "outputId": "2dc3b971-e908-4ea2-9eba-b50480ca60dd"
      },
      "execution_count": 26,
      "outputs": [
        {
          "output_type": "stream",
          "name": "stdout",
          "text": [
            "# A tibble: 30 × 4\n",
            "   YearsExperience Salary predicted difference\n",
            "             <dbl>  <dbl>     <dbl>      <dbl>\n",
            " 1             1.1  39343    36187.      3156.\n",
            " 2             1.3  46205    38077.      8128.\n",
            " 3             1.5  37731    39967.     -2236.\n",
            " 4             2    43525    44692.     -1167.\n",
            " 5             2.2  39891    46582.     -6691.\n",
            " 6             2.9  56642    53197.      3445.\n",
            " 7             3    60150    54142.      6008.\n",
            " 8             3.2  54445    56032.     -1587.\n",
            " 9             3.2  64445    56032.      8413.\n",
            "10             3.7  57189    60757.     -3568.\n",
            "# … with 20 more rows\n"
          ]
        }
      ]
    },
    {
      "cell_type": "code",
      "source": [
        "%%R\n",
        "plot(salary$YearsExperience,salary$Salary,\n",
        "     main='Reression for YearsExperience and Salary',\n",
        "     xlab=' YearsExperience',ylab='Salary')\n",
        "\n",
        "#plot a regression line\n",
        "abline(relation,col='red')"
      ],
      "metadata": {
        "colab": {
          "base_uri": "https://localhost:8080/",
          "height": 497
        },
        "id": "XBXOyzOwVfth",
        "outputId": "7d2dfa56-349e-4179-d230-3591c3ff0d48"
      },
      "execution_count": 25,
      "outputs": [
        {
          "output_type": "display_data",
          "data": {
            "image/png": "[encoded data removed]"
          },
          "metadata": {}
        }
      ]
    }
  ]
}