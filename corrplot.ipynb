{
  "nbformat": 4,
  "nbformat_minor": 0,
  "metadata": {
    "colab": {
      "name": "corrplot.ipynb",
      "provenance": [],
      "collapsed_sections": [],
      "authorship_tag": "ABX9TyMCeAJ36pau/Gbh6/9fthDK",
      "include_colab_link": true
    },
    "kernelspec": {
      "name": "python3",
      "display_name": "Python 3"
    },
    "language_info": {
      "name": "python"
    }
  },
  "cells": [
    {
      "cell_type": "markdown",
      "metadata": {
        "id": "view-in-github",
        "colab_type": "text"
      },
      "source": [
        "<a href=\"https://colab.research.google.com/github/Akrambaig282/Akrambaig282/blob/main/corrplot.ipynb\" target=\"_parent\"><img src=\"https://colab.research.google.com/assets/colab-badge.svg\" alt=\"Open In Colab\"/></a>"
      ]
    },
    {
      "cell_type": "code",
      "execution_count": null,
      "metadata": {
        "id": "ZGahBkIUWX7x"
      },
      "outputs": [],
      "source": [
        "%load_ext rpy2.ipython\n"
      ]
    },
    {
      "cell_type": "code",
      "source": [
        "%%R\n",
        "library(readr)\n",
        "library(dplyr)\n",
        "library(tidyr)\n",
        "library(ggplot2)"
      ],
      "metadata": {
        "colab": {
          "base_uri": "https://localhost:8080/"
        },
        "id": "7VJ2fKlyX-Oz",
        "outputId": "3e2c24a3-d3af-4ea0-8959-6f0b2b15bdb9"
      },
      "execution_count": null,
      "outputs": [
        {
          "output_type": "stream",
          "name": "stderr",
          "text": [
            "R[write to console]: \n",
            "Attaching package: ‘dplyr’\n",
            "\n",
            "\n",
            "R[write to console]: The following objects are masked from ‘package:stats’:\n",
            "\n",
            "    filter, lag\n",
            "\n",
            "\n",
            "R[write to console]: The following objects are masked from ‘package:base’:\n",
            "\n",
            "    intersect, setdiff, setequal, union\n",
            "\n",
            "\n"
          ]
        }
      ]
    },
    {
      "cell_type": "code",
      "source": [
        "%%R\n",
        "ga=read_csv(\"/content/GAdata.csv\")"
      ],
      "metadata": {
        "colab": {
          "base_uri": "https://localhost:8080/"
        },
        "id": "ucXg0HEUYAiz",
        "outputId": "841eedfc-f7bb-4418-9b96-a3a41d268822"
      },
      "execution_count": null,
      "outputs": [
        {
          "output_type": "stream",
          "name": "stdout",
          "text": [
            "Rows: 500 Columns: 9\n",
            "── Column specification ────────────────────────────────────────────────────────\n",
            "Delimiter: \",\"\n",
            "dbl (9): Serial No., GREScore, TOEFLScore, UniversityRating, SOP, LOR, CGPA,...\n",
            "\n",
            "ℹ Use `spec()` to retrieve the full column specification for this data.\n",
            "ℹ Specify the column types or set `show_col_types = FALSE` to quiet this message.\n"
          ]
        }
      ]
    },
    {
      "cell_type": "code",
      "source": [
        "%%R\n",
        "ga"
      ],
      "metadata": {
        "colab": {
          "base_uri": "https://localhost:8080/"
        },
        "id": "WoP6eH5cZCEv",
        "outputId": "de0605c5-d963-4cff-eaac-ebc42f87198e"
      },
      "execution_count": null,
      "outputs": [
        {
          "output_type": "stream",
          "name": "stdout",
          "text": [
            "# A tibble: 500 × 9\n",
            "   `Serial No.` GREScore TOEFLScore UniversityRating   SOP   LOR  CGPA Research\n",
            "          <dbl>    <dbl>      <dbl>            <dbl> <dbl> <dbl> <dbl>    <dbl>\n",
            " 1            1      337        118                4   4.5   4.5  9.65        1\n",
            " 2            2      324        107                4   4     4.5  8.87        1\n",
            " 3            3      316        104                3   3     3.5  8           1\n",
            " 4            4      322        110                3   3.5   2.5  8.67        1\n",
            " 5            5      314        103                2   2     3    8.21        0\n",
            " 6            6      330        115                5   4.5   3    9.34        1\n",
            " 7            7      321        109                3   3     4    8.2         1\n",
            " 8            8      308        101                2   3     4    7.9         0\n",
            " 9            9      302        102                1   2     1.5  8           0\n",
            "10           10      323        108                3   3.5   3    8.6         0\n",
            "# … with 490 more rows, and 1 more variable: Chance_of_Admit <dbl>\n"
          ]
        }
      ]
    },
    {
      "cell_type": "code",
      "source": [
        "%%R\n",
        "ga1=select(ga,-\"Serial No.\")\n",
        "print(ga1)"
      ],
      "metadata": {
        "colab": {
          "base_uri": "https://localhost:8080/"
        },
        "id": "PjAgPwuPZul1",
        "outputId": "a90e24e4-2b4a-44d3-f403-7d65680d28b7"
      },
      "execution_count": null,
      "outputs": [
        {
          "output_type": "stream",
          "name": "stdout",
          "text": [
            "# A tibble: 500 × 8\n",
            "   GREScore TOEFLScore UniversityRating   SOP   LOR  CGPA Research\n",
            "      <dbl>      <dbl>            <dbl> <dbl> <dbl> <dbl>    <dbl>\n",
            " 1      337        118                4   4.5   4.5  9.65        1\n",
            " 2      324        107                4   4     4.5  8.87        1\n",
            " 3      316        104                3   3     3.5  8           1\n",
            " 4      322        110                3   3.5   2.5  8.67        1\n",
            " 5      314        103                2   2     3    8.21        0\n",
            " 6      330        115                5   4.5   3    9.34        1\n",
            " 7      321        109                3   3     4    8.2         1\n",
            " 8      308        101                2   3     4    7.9         0\n",
            " 9      302        102                1   2     1.5  8           0\n",
            "10      323        108                3   3.5   3    8.6         0\n",
            "# … with 490 more rows, and 1 more variable: Chance_of_Admit <dbl>\n"
          ]
        }
      ]
    },
    {
      "cell_type": "code",
      "source": [
        "%%R\n",
        "cor(ga1)"
      ],
      "metadata": {
        "colab": {
          "base_uri": "https://localhost:8080/"
        },
        "id": "sgKvDLCwazSH",
        "outputId": "9fb07564-4a6b-4709-f0df-8213d4e366af"
      },
      "execution_count": null,
      "outputs": [
        {
          "output_type": "stream",
          "name": "stdout",
          "text": [
            "                  GREScore TOEFLScore UniversityRating       SOP       LOR\n",
            "GREScore         1.0000000  0.8272004        0.6353762 0.6134977 0.5246794\n",
            "TOEFLScore       0.8272004  1.0000000        0.6497992 0.6444104 0.5415633\n",
            "UniversityRating 0.6353762  0.6497992        1.0000000 0.7280236 0.6086507\n",
            "SOP              0.6134977  0.6444104        0.7280236 1.0000000 0.6637069\n",
            "LOR              0.5246794  0.5415633        0.6086507 0.6637069 1.0000000\n",
            "CGPA             0.8258780  0.8105735        0.7052543 0.7121543 0.6374692\n",
            "Research         0.5633981  0.4670121        0.4270475 0.4081158 0.3725256\n",
            "Chance_of_Admit  0.8103506  0.7922276        0.6901324 0.6841365 0.6453645\n",
            "                      CGPA  Research Chance_of_Admit\n",
            "GREScore         0.8258780 0.5633981       0.8103506\n",
            "TOEFLScore       0.8105735 0.4670121       0.7922276\n",
            "UniversityRating 0.7052543 0.4270475       0.6901324\n",
            "SOP              0.7121543 0.4081158       0.6841365\n",
            "LOR              0.6374692 0.3725256       0.6453645\n",
            "CGPA             1.0000000 0.5013110       0.8824126\n",
            "Research         0.5013110 1.0000000       0.5458710\n",
            "Chance_of_Admit  0.8824126 0.5458710       1.0000000\n"
          ]
        }
      ]
    },
    {
      "cell_type": "code",
      "source": [
        "%%R\n",
        "install.packages(\"corrplot\")"
      ],
      "metadata": {
        "colab": {
          "base_uri": "https://localhost:8080/"
        },
        "id": "4mGZ7g1XbYKd",
        "outputId": "7a481b3e-1fdc-45ee-cff3-57444ab5753c"
      },
      "execution_count": null,
      "outputs": [
        {
          "output_type": "stream",
          "name": "stderr",
          "text": [
            "R[write to console]: Installing package into ‘/usr/local/lib/R/site-library’\n",
            "(as ‘lib’ is unspecified)\n",
            "\n",
            "R[write to console]: trying URL 'https://cran.rstudio.com/src/contrib/corrplot_0.92.tar.gz'\n",
            "\n",
            "R[write to console]: Content type 'application/x-gzip'\n",
            "R[write to console]:  length 3765850 bytes (3.6 MB)\n",
            "\n",
            "R[write to console]: =\n",
            "R[write to console]: =\n",
            "R[write to console]: =\n",
            "R[write to console]: =\n",
            "R[write to console]: =\n",
            "R[write to console]: =\n",
            "R[write to console]: =\n",
            "R[write to console]: =\n",
            "R[write to console]: =\n",
            "R[write to console]: =\n",
            "R[write to console]: =\n",
            "R[write to console]: =\n",
            "R[write to console]: =\n",
            "R[write to console]: =\n",
            "R[write to console]: =\n",
            "R[write to console]: =\n",
            "R[write to console]: =\n",
            "R[write to console]: =\n",
            "R[write to console]: =\n",
            "R[write to console]: =\n",
            "R[write to console]: =\n",
            "R[write to console]: =\n",
            "R[write to console]: =\n",
            "R[write to console]: =\n",
            "R[write to console]: =\n",
            "R[write to console]: =\n",
            "R[write to console]: =\n",
            "R[write to console]: =\n",
            "R[write to console]: =\n",
            "R[write to console]: =\n",
            "R[write to console]: =\n",
            "R[write to console]: =\n",
            "R[write to console]: =\n",
            "R[write to console]: =\n",
            "R[write to console]: =\n",
            "R[write to console]: =\n",
            "R[write to console]: =\n",
            "R[write to console]: =\n",
            "R[write to console]: =\n",
            "R[write to console]: =\n",
            "R[write to console]: =\n",
            "R[write to console]: =\n",
            "R[write to console]: =\n",
            "R[write to console]: =\n",
            "R[write to console]: =\n",
            "R[write to console]: =\n",
            "R[write to console]: =\n",
            "R[write to console]: =\n",
            "R[write to console]: =\n",
            "R[write to console]: =\n",
            "R[write to console]: \n",
            "\n",
            "R[write to console]: downloaded 3.6 MB\n",
            "\n",
            "\n",
            "R[write to console]: \n",
            "\n",
            "R[write to console]: \n",
            "R[write to console]: The downloaded source packages are in\n",
            "\t‘/tmp/RtmpVykNiG/downloaded_packages’\n",
            "R[write to console]: \n",
            "R[write to console]: \n",
            "\n"
          ]
        }
      ]
    },
    {
      "cell_type": "code",
      "source": [
        "%%R\n",
        "library(corrplot)\n",
        "corrplot(cor(ga1), method=\"square\")"
      ],
      "metadata": {
        "colab": {
          "base_uri": "https://localhost:8080/",
          "height": 497
        },
        "id": "nCVliC8EbzMB",
        "outputId": "f0e2e5d5-66bd-4fbb-c9bb-b0cbcb97f9b4"
      },
      "execution_count": null,
      "outputs": [
        {
          "output_type": "display_data",
          "data": {
            "image/png": "[encoded data removed]"
          },
          "metadata": {}
        }
      ]
    },
    {
      "cell_type": "code",
      "source": [
        "%%R\n",
        "colnames(ga1)"
      ],
      "metadata": {
        "colab": {
          "base_uri": "https://localhost:8080/"
        },
        "id": "djRkZHbdcMZg",
        "outputId": "d76abff3-2a07-4b48-a969-7b7b056f0d0e"
      },
      "execution_count": null,
      "outputs": [
        {
          "output_type": "stream",
          "name": "stdout",
          "text": [
            "[1] \"GREScore\"         \"TOEFLScore\"       \"UniversityRating\" \"SOP\"             \n",
            "[5] \"LOR\"              \"CGPA\"             \"Research\"         \"Chance_of_Admit\" \n"
          ]
        }
      ]
    }
  ]
}